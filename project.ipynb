{
 "nbformat": 4,
 "nbformat_minor": 2,
 "metadata": {
  "language_info": {
   "name": "python",
   "codemirror_mode": {
    "name": "ipython",
    "version": 3
   },
   "version": "3.6.9-final"
  },
  "orig_nbformat": 2,
  "file_extension": ".py",
  "mimetype": "text/x-python",
  "name": "python",
  "npconvert_exporter": "python",
  "pygments_lexer": "ipython3",
  "version": 3,
  "kernelspec": {
   "name": "python36964bit5468db8d9e2643e5b0215b0c52f1d8c0",
   "display_name": "Python 3.6.9 64-bit"
  }
 },
 "cells": [
  {
   "cell_type": "markdown",
   "execution_count": null,
   "metadata": {},
   "outputs": [],
   "source": [
    "# PPG Field Study Dataset\n",
    "## 0/ Imports des modules"
   ]
  },
  {
   "cell_type": "code",
   "execution_count": 2,
   "metadata": {},
   "outputs": [],
   "source": [
    "import pickle\n",
    "import pandas as pd"
   ]
  },
  {
   "cell_type": "markdown",
   "execution_count": null,
   "metadata": {},
   "outputs": [],
   "source": [
    "## 1/ Chargement des données"
   ]
  },
  {
   "cell_type": "code",
   "execution_count": 3,
   "metadata": {},
   "outputs": [],
   "source": [
    "path = \"./data/S1/S1.pkl\""
   ]
  },
  {
   "cell_type": "code",
   "execution_count": 4,
   "metadata": {},
   "outputs": [],
   "source": [
    "with open(path, \"rb\") as f:\n",
    "    data = pickle.load(f, encoding=\"latin-1\")"
   ]
  },
  {
   "cell_type": "markdown",
   "execution_count": null,
   "metadata": {},
   "outputs": [],
   "source": [
    "## 2/ Analyse des données"
   ]
  },
  {
   "cell_type": "code",
   "execution_count": 5,
   "metadata": {},
   "outputs": [
    {
     "data": {
      "text/plain": "dict_keys(['rpeaks', 'signal', 'label', 'activity', 'questionnaire', 'subject'])"
     },
     "execution_count": 5,
     "metadata": {},
     "output_type": "execute_result"
    }
   ],
   "source": [
    "data.keys()"
   ]
  },
  {
   "cell_type": "code",
   "execution_count": 6,
   "metadata": {},
   "outputs": [
    {
     "data": {
      "text/html": "<div>\n<style scoped>\n    .dataframe tbody tr th:only-of-type {\n        vertical-align: middle;\n    }\n\n    .dataframe tbody tr th {\n        vertical-align: top;\n    }\n\n    .dataframe thead th {\n        text-align: right;\n    }\n</style>\n<table border=\"1\" class=\"dataframe\">\n  <thead>\n    <tr style=\"text-align: right;\">\n      <th></th>\n      <th>chest</th>\n      <th>wrist</th>\n    </tr>\n  </thead>\n  <tbody>\n    <tr>\n      <th>ACC</th>\n      <td>[[0.8564000129699707, -0.06779998540878296, -0...</td>\n      <td>[[-0.765625, -0.078125, 0.671875], [-0.765625,...</td>\n    </tr>\n    <tr>\n      <th>ECG</th>\n      <td>[[0.015609741210937498], [0.01812744140625], [...</td>\n      <td>NaN</td>\n    </tr>\n    <tr>\n      <th>EMG</th>\n      <td>[[-1.5], [-1.5], [-1.5], [-1.5], [-1.5], [-1.5...</td>\n      <td>NaN</td>\n    </tr>\n    <tr>\n      <th>EDA</th>\n      <td>[[0.0], [0.0], [0.0], [0.0], [0.0], [0.0], [0....</td>\n      <td>[[4.722437], [4.728843], [4.718594], [4.717312...</td>\n    </tr>\n    <tr>\n      <th>Temp</th>\n      <td>[[-273.15], [-273.15], [-273.15], [-273.15], [...</td>\n      <td>NaN</td>\n    </tr>\n    <tr>\n      <th>Resp</th>\n      <td>[[4.44183349609375], [4.45098876953125], [4.47...</td>\n      <td>NaN</td>\n    </tr>\n    <tr>\n      <th>BVP</th>\n      <td>NaN</td>\n      <td>[[7.28], [6.33], [5.46], [4.6], [3.74], [2.86]...</td>\n    </tr>\n    <tr>\n      <th>TEMP</th>\n      <td>NaN</td>\n      <td>[[32.13], [32.16], [32.16], [32.16], [32.16], ...</td>\n    </tr>\n  </tbody>\n</table>\n</div>",
      "text/plain": "                                                  chest  \\\nACC   [[0.8564000129699707, -0.06779998540878296, -0...   \nECG   [[0.015609741210937498], [0.01812744140625], [...   \nEMG   [[-1.5], [-1.5], [-1.5], [-1.5], [-1.5], [-1.5...   \nEDA   [[0.0], [0.0], [0.0], [0.0], [0.0], [0.0], [0....   \nTemp  [[-273.15], [-273.15], [-273.15], [-273.15], [...   \nResp  [[4.44183349609375], [4.45098876953125], [4.47...   \nBVP                                                 NaN   \nTEMP                                                NaN   \n\n                                                  wrist  \nACC   [[-0.765625, -0.078125, 0.671875], [-0.765625,...  \nECG                                                 NaN  \nEMG                                                 NaN  \nEDA   [[4.722437], [4.728843], [4.718594], [4.717312...  \nTemp                                                NaN  \nResp                                                NaN  \nBVP   [[7.28], [6.33], [5.46], [4.6], [3.74], [2.86]...  \nTEMP  [[32.13], [32.16], [32.16], [32.16], [32.16], ...  "
     },
     "execution_count": 6,
     "metadata": {},
     "output_type": "execute_result"
    }
   ],
   "source": [
    "pd.DataFrame(data[\"signal\"])"
   ]
  },
  {
   "cell_type": "markdown",
   "execution_count": null,
   "metadata": {},
   "outputs": [],
   "source": [
    "## 3/ Création de DataFrame"
   ]
  },
  {
   "cell_type": "code",
   "execution_count": 7,
   "metadata": {},
   "outputs": [
    {
     "name": "stdout",
     "output_type": "stream",
     "text": "clefs ok = ['rpeaks', 'signal', 'label', 'activity']\nclefs avec un pbms = ['questionnaireIf using all scalar values, you must pass an index', 'subjectDataFrame constructor not properly called!']\n"
    }
   ],
   "source": [
    "dfs  = []\n",
    "pbms = []\n",
    "oks  = []\n",
    "for k in data.keys():\n",
    "    try:\n",
    "        df = pd.DataFrame(data[k]) \n",
    "        dfs.append(df)\n",
    "        oks.append(k)\n",
    "    except Exception as e:\n",
    "        pbms.append(k + str(e))\n",
    "print(f\"clefs ok = {oks}\")\n",
    "print(f\"clefs avec un pbms = {pbms}\")"
   ]
  },
  {
   "cell_type": "markdown",
   "execution_count": null,
   "metadata": {},
   "outputs": [],
   "source": [
    "### 3.1/ Regarder les DataFrames"
   ]
  },
  {
   "cell_type": "code",
   "execution_count": 8,
   "metadata": {},
   "outputs": [
    {
     "name": "stdout",
     "output_type": "stream",
     "text": "0\n541     455196\n3357   1770916\n7984   4517660\n654     536491\n10925  6144971\n                                                  chest  \\\nTemp  [[-273.15], [-273.15], [-273.15], [-273.15], [...   \nEMG   [[-1.5], [-1.5], [-1.5], [-1.5], [-1.5], [-1.5...   \nTEMP                                                NaN   \nACC   [[0.8564000129699707, -0.06779998540878296, -0...   \nResp  [[4.44183349609375], [4.45098876953125], [4.47...   \n\n                                                  wrist  \nTemp                                                NaN  \nEMG                                                 NaN  \nTEMP  [[32.13], [32.16], [32.16], [32.16], [32.16], ...  \nACC   [[-0.765625, -0.078125, 0.671875], [-0.765625,...  \nResp                                                NaN  \n               0\n3250   56.584907\n2706   69.950801\n1823   61.881242\n3721   86.046294\n484   110.732997\n         0\n24584  6.0\n32673  8.0\n33626  8.0\n21038  6.0\n7248   0.0\n"
    }
   ],
   "source": [
    "for df in dfs:\n",
    "    print(df.sample(5))"
   ]
  },
  {
   "cell_type": "code",
   "execution_count": null,
   "metadata": {},
   "outputs": [],
   "source": []
  }
 ]
}